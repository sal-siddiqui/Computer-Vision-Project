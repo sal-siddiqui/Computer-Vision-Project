{
 "cells": [
  {
   "cell_type": "markdown",
   "id": "664516a4-a362-4160-bea3-bc825a370542",
   "metadata": {},
   "source": [
    "# **Demonstration**"
   ]
  },
  {
   "cell_type": "markdown",
   "id": "885f7ce1-b1fb-45a5-9eff-2dc67ff981d1",
   "metadata": {},
   "source": [
    "**Team Members**\n",
    "\n",
    "- Mohammad Arsalan Ahmed (B00090111)\n",
    "- Fahad Alzara (B00088243)\n",
    "- Mohammad Al-Armouty (B00090061)\n",
    "- Salman Siddiqui (B00086488)"
   ]
  },
  {
   "cell_type": "markdown",
   "id": "22f4f791-7e6a-4c4c-899e-e14245dce210",
   "metadata": {},
   "source": [
    "This file is designed for live demonstrations to guide users/viewers through the following steps:\n",
    "- Data Digestion\n",
    "  - Data Collection\n",
    "  - Data Cleaning\n",
    "  - Data Preprocessing\n",
    "  - Data Augmentation\n",
    "- Deep Learning Model Architecture\n",
    "- Training Code\n",
    "- Testing Code\n",
    "- Performance Metrics"
   ]
  }
 ],
 "metadata": {
  "kernelspec": {
   "display_name": "Python 3 (ipykernel)",
   "language": "python",
   "name": "python3"
  },
  "language_info": {
   "codemirror_mode": {
    "name": "ipython",
    "version": 3
   },
   "file_extension": ".py",
   "mimetype": "text/x-python",
   "name": "python",
   "nbconvert_exporter": "python",
   "pygments_lexer": "ipython3",
   "version": "3.10.14"
  }
 },
 "nbformat": 4,
 "nbformat_minor": 5
}
